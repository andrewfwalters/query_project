{
 "cells": [
  {
   "cell_type": "markdown",
   "metadata": {},
   "source": [
    "# W205 Query Project: Assignment 05\n",
    "\n",
    "Analysis of the publicly avalible Bay Area bikeshare data using Google's BigQuery. The objective of this assignment is to determine a promotion to increase ridership. See conclusion for reccomended promotion. Written by Andrew Walters (andrewfwalters@berkeley.edu)."
   ]
  },
  {
   "cell_type": "markdown",
   "metadata": {},
   "source": [
    "## 0) Setup"
   ]
  },
  {
   "cell_type": "markdown",
   "metadata": {},
   "source": [
    "** Imports **"
   ]
  },
  {
   "cell_type": "code",
   "execution_count": 1,
   "metadata": {},
   "outputs": [],
   "source": [
    "import pandas as pd\n",
    "import matplotlib.pyplot as plt\n",
    "import os\n",
    "from mpl_toolkits.basemap import Basemap\n",
    "import warnings\n",
    "warnings.filterwarnings('ignore')\n",
    "%matplotlib inline"
   ]
  },
  {
   "cell_type": "markdown",
   "metadata": {},
   "source": [
    "** Useful Functions **"
   ]
  },
  {
   "cell_type": "code",
   "execution_count": 2,
   "metadata": {
    "collapsed": true
   },
   "outputs": [],
   "source": [
    "# create an executable shell command from array of sql sub strings\n",
    "def bq_builder(strs,outfile,legacy_sql=True):\n",
    "    \n",
    "    # prefix\n",
    "    query_str = \"bq query\"\n",
    "    \n",
    "    # legacy sql\n",
    "    if(legacy_sql):\n",
    "        query_str += \" --use_legacy_sql=TRUE\"\n",
    "    else:\n",
    "        query_str += \" --use_legacy_sql=FALSE\"\n",
    "    \n",
    "    # formatting\n",
    "    query_str += \" --format=csv\"\n",
    "    query_str += \" --max_rows=10000\"\n",
    "    \n",
    "    # sql string\n",
    "    query_str += \" \\\"\"\n",
    "    for substr in strs:\n",
    "        query_str += \" \"\n",
    "        query_str += substr\n",
    "    query_str += \" \\\"\"\n",
    "    \n",
    "    # redirect ouptut\n",
    "    query_str += \" > \"\n",
    "    query_str += outfile\n",
    "    \n",
    "    # returns executable python\n",
    "    return(query_str)"
   ]
  },
  {
   "cell_type": "markdown",
   "metadata": {},
   "source": [
    "## 1) What are the 5 most common commuter trips?"
   ]
  },
  {
   "cell_type": "markdown",
   "metadata": {},
   "source": [
    "** Exploratory Data Analysis **"
   ]
  },
  {
   "cell_type": "markdown",
   "metadata": {},
   "source": [
    "Start by exploring the common weekday start times and whether there is any correlation with subscriptions."
   ]
  },
  {
   "cell_type": "code",
   "execution_count": 3,
   "metadata": {
    "collapsed": true
   },
   "outputs": [],
   "source": [
    "q00_strs = [\"SELECT HOUR(trips.start_date) AS start_hour,\",\n",
    "            \"trips.subscriber_type,\"\n",
    "            \"COUNT(trips.trip_id) AS num_trips\",\n",
    "            \"FROM [bigquery-public-data:san_francisco.bikeshare_trips] AS trips\",\n",
    "            \"WHERE DAYOFWEEK(trips.start_date) BETWEEN 2 AND 6\",\n",
    "            \"GROUP BY start_hour, trips.subscriber_type\",\n",
    "            \"ORDER BY start_hour, trips.subscriber_type ASC\"]\n",
    "q00_out = \"q00.csv\"\n",
    "q00_cmd = bq_builder(q00_strs,outfile=q00_out,legacy_sql=True)\n",
    "exit_stat = os.system(q00_cmd)"
   ]
  },
  {
   "cell_type": "code",
   "execution_count": 4,
   "metadata": {},
   "outputs": [
    {
     "data": {
      "image/png": "[encoded data removed]",
      "text/plain": [
       "<matplotlib.figure.Figure at 0x1065d2748>"
      ]
     },
     "metadata": {},
     "output_type": "display_data"
    }
   ],
   "source": [
    "q00_res=pd.read_csv(q00_out)\n",
    "q00_pivot = q00_res.pivot(index='start_hour', columns='trips_subscriber_type', values='num_trips')\n",
    "q00_pivot.plot.bar(stacked=True);"
   ]
  },
  {
   "cell_type": "markdown",
   "metadata": {},
   "source": [
    "The stacked bar graph above shows a surge in weekday traffic between 7am and 9am in the morning, and between 4pm and 6pm in the evening. Additionally we see that nearly all commuters are subscribers. We will exclude \"Customers\" from the following queries to find common commuter trips since the curve in the graph aboce indicates that most of them are not daily commuters."
   ]
  },
  {
   "cell_type": "markdown",
   "metadata": {},
   "source": [
    "** Query For Commutes **"
   ]
  },
  {
   "cell_type": "markdown",
   "metadata": {},
   "source": [
    "Morning commute query"
   ]
  },
  {
   "cell_type": "code",
   "execution_count": 5,
   "metadata": {},
   "outputs": [],
   "source": [
    "q01_strs = [\"SELECT trips.start_station_id AS a_id,\",\n",
    "            \"trips.start_station_name AS a_name,\",\n",
    "            \"trips.end_station_id AS b_id,\",\n",
    "            \"trips.end_station_name AS b_name,\",\n",
    "            \"COUNT(trips.trip_id) AS num_trips\",\n",
    "            \"FROM [bigquery-public-data:san_francisco.bikeshare_trips] AS trips\",\n",
    "            \"WHERE DAYOFWEEK(trips.start_date) BETWEEN 2 AND 6 AND\",\n",
    "            \"HOUR(trips.start_date) BETWEEN 7 AND 9\",\n",
    "            \"AND trips.subscriber_type='Subscriber'\"\n",
    "            \"GROUP BY a_id, a_name, b_id, b_name\"]\n",
    "q01_out = \"q01.csv\"\n",
    "q01_cmd = bq_builder(q01_strs,outfile=q01_out,legacy_sql=True)\n",
    "exit_stat = os.system(q01_cmd)\n",
    "q01_res=pd.read_csv(q01_out)"
   ]
  },
  {
   "cell_type": "markdown",
   "metadata": {},
   "source": [
    "Evening commute query"
   ]
  },
  {
   "cell_type": "code",
   "execution_count": 6,
   "metadata": {
    "collapsed": true
   },
   "outputs": [],
   "source": [
    "q02_strs = [\"SELECT trips.start_station_id AS b_id,\",\n",
    "            \"trips.start_station_name AS b_name,\",\n",
    "            \"trips.end_station_id AS a_id,\",\n",
    "            \"trips.end_station_name AS a_name,\",\n",
    "            \"COUNT(trips.trip_id) AS num_trips\",\n",
    "            \"FROM [bigquery-public-data:san_francisco.bikeshare_trips] AS trips\",\n",
    "            \"WHERE DAYOFWEEK(trips.start_date) BETWEEN 2 AND 6 AND\",\n",
    "            \"HOUR(trips.start_date) BETWEEN 16 AND 18\",\n",
    "            \"AND trips.subscriber_type='Subscriber'\"\n",
    "            \"GROUP BY a_id, a_name, b_id, b_name\"]\n",
    "q02_out = \"q02.csv\"\n",
    "q02_cmd = bq_builder(q02_strs,outfile=q02_out,legacy_sql=True)\n",
    "exit_stat = os.system(q02_cmd)\n",
    "q02_res=pd.read_csv(q02_out)"
   ]
  },
  {
   "cell_type": "markdown",
   "metadata": {},
   "source": [
    "Combine the results of the morning and evening commutes. Note that a and b are switched between starting and ending station. This assumes that a commuter travels from home to work in the morning, and takes the reverse trip in the evening."
   ]
  },
  {
   "cell_type": "code",
   "execution_count": 7,
   "metadata": {},
   "outputs": [
    {
     "data": {
      "text/html": [
       "<div>\n",
       "<style>\n",
       "    .dataframe thead tr:only-child th {\n",
       "        text-align: right;\n",
       "    }\n",
       "\n",
       "    .dataframe thead th {\n",
       "        text-align: left;\n",
       "    }\n",
       "\n",
       "    .dataframe tbody tr th {\n",
       "        vertical-align: top;\n",
       "    }\n",
       "</style>\n",
       "<table border=\"1\" class=\"dataframe\">\n",
       "  <thead>\n",
       "    <tr style=\"text-align: right;\">\n",
       "      <th></th>\n",
       "      <th>a_id</th>\n",
       "      <th>a_name</th>\n",
       "      <th>b_id</th>\n",
       "      <th>b_name</th>\n",
       "      <th>num_trips</th>\n",
       "    </tr>\n",
       "  </thead>\n",
       "  <tbody>\n",
       "    <tr>\n",
       "      <th>0</th>\n",
       "      <td>50</td>\n",
       "      <td>Harry Bridges Plaza (Ferry Building)</td>\n",
       "      <td>61</td>\n",
       "      <td>2nd at Townsend</td>\n",
       "      <td>8529</td>\n",
       "    </tr>\n",
       "    <tr>\n",
       "      <th>1</th>\n",
       "      <td>70</td>\n",
       "      <td>San Francisco Caltrain (Townsend at 4th)</td>\n",
       "      <td>51</td>\n",
       "      <td>Embarcadero at Folsom</td>\n",
       "      <td>7308</td>\n",
       "    </tr>\n",
       "    <tr>\n",
       "      <th>2</th>\n",
       "      <td>74</td>\n",
       "      <td>Steuart at Market</td>\n",
       "      <td>60</td>\n",
       "      <td>Embarcadero at Sansome</td>\n",
       "      <td>6415</td>\n",
       "    </tr>\n",
       "    <tr>\n",
       "      <th>3</th>\n",
       "      <td>70</td>\n",
       "      <td>San Francisco Caltrain (Townsend at 4th)</td>\n",
       "      <td>55</td>\n",
       "      <td>Temporary Transbay Terminal (Howard at Beale)</td>\n",
       "      <td>6363</td>\n",
       "    </tr>\n",
       "    <tr>\n",
       "      <th>4</th>\n",
       "      <td>69</td>\n",
       "      <td>San Francisco Caltrain 2 (330 Townsend)</td>\n",
       "      <td>65</td>\n",
       "      <td>Townsend at 7th</td>\n",
       "      <td>6207</td>\n",
       "    </tr>\n",
       "  </tbody>\n",
       "</table>\n",
       "</div>"
      ],
      "text/plain": [
       "   a_id                                    a_name  b_id  \\\n",
       "0    50      Harry Bridges Plaza (Ferry Building)    61   \n",
       "1    70  San Francisco Caltrain (Townsend at 4th)    51   \n",
       "2    74                         Steuart at Market    60   \n",
       "3    70  San Francisco Caltrain (Townsend at 4th)    55   \n",
       "4    69   San Francisco Caltrain 2 (330 Townsend)    65   \n",
       "\n",
       "                                          b_name  num_trips  \n",
       "0                                2nd at Townsend       8529  \n",
       "1                          Embarcadero at Folsom       7308  \n",
       "2                         Embarcadero at Sansome       6415  \n",
       "3  Temporary Transbay Terminal (Howard at Beale)       6363  \n",
       "4                                Townsend at 7th       6207  "
      ]
     },
     "execution_count": 7,
     "metadata": {},
     "output_type": "execute_result"
    }
   ],
   "source": [
    "commute_keys = ['a_id', 'a_name', 'b_id', 'b_name']\n",
    "commutes = pd.concat([q01_res,q02_res])\n",
    "commutes = commutes.groupby(commute_keys)['num_trips'].sum()\n",
    "top_commutes = commutes.nlargest(25)\n",
    "top_commutes = pd.DataFrame(top_commutes).reset_index()\n",
    "commutes = pd.DataFrame(commutes).reset_index()\n",
    "\n",
    "top_commutes.head(5)"
   ]
  },
  {
   "cell_type": "markdown",
   "metadata": {},
   "source": [
    "** Visualize 25 Most Common Commutes on Map **"
   ]
  },
  {
   "cell_type": "markdown",
   "metadata": {},
   "source": [
    "Get a local copy of stations table as dataframe"
   ]
  },
  {
   "cell_type": "code",
   "execution_count": 8,
   "metadata": {},
   "outputs": [],
   "source": [
    "# get \"a\" station coordinates\n",
    "q03_strs = [\"SELECT station_id, latitude, longitude\",\n",
    "            \"FROM [bigquery-public-data:san_francisco.bikeshare_stations];\"]\n",
    "q03_out = \"q03.csv\"\n",
    "q03_cmd = bq_builder(q03_strs,outfile=q03_out,legacy_sql=True)\n",
    "exit_stat = os.system(q03_cmd)"
   ]
  },
  {
   "cell_type": "code",
   "execution_count": 9,
   "metadata": {},
   "outputs": [],
   "source": [
    "q03_res=pd.read_csv(q03_out)"
   ]
  },
  {
   "cell_type": "markdown",
   "metadata": {},
   "source": [
    "Join \"A\" station coordinates with table followed by \"B\" station coordinates."
   ]
  },
  {
   "cell_type": "code",
   "execution_count": 10,
   "metadata": {},
   "outputs": [],
   "source": [
    "top_commutes = pd.merge(top_commutes,\n",
    "                        q03_res,\n",
    "                        how='left',\n",
    "                        left_on='a_id',\n",
    "                        right_on='station_id')\n",
    "top_commutes = top_commutes.rename(columns={\"latitude\": \"a_lat\", \"longitude\": \"a_lon\"})\n",
    "top_commutes = top_commutes.drop(\"station_id\",axis=1)"
   ]
  },
  {
   "cell_type": "code",
   "execution_count": 11,
   "metadata": {
    "collapsed": true
   },
   "outputs": [],
   "source": [
    "top_commutes = pd.merge(top_commutes,\n",
    "                        q03_res,\n",
    "                        how='left',\n",
    "                        left_on='b_id',\n",
    "                        right_on='station_id')\n",
    "top_commutes = top_commutes.rename(columns={\"latitude\": \"b_lat\", \"longitude\": \"b_lon\"})\n",
    "top_commutes = top_commutes.drop(\"station_id\",axis=1)"
   ]
  },
  {
   "cell_type": "code",
   "execution_count": 49,
   "metadata": {},
   "outputs": [
    {
     "data": {
      "image/png": "[encoded data removed]",
      "text/plain": [
       "<matplotlib.figure.Figure at 0x10f8cba20>"
      ]
     },
     "metadata": {},
     "output_type": "display_data"
    }
   ],
   "source": [
    "# first define a transverse mercator projection centered on the bay area\n",
    "map_width_m = 30 * 1000\n",
    "map_height_m = 30 * 1000\n",
    "fig_width = 10\n",
    "fig = plt.figure(figsize=[fig_width, fig_width * map_height_m / float(map_width_m)])\n",
    "m = Basemap(ellps='WGS84',\n",
    "            projection='tmerc',\n",
    "            lon_0=-122.4, \n",
    "            lat_0=37.79,\n",
    "            width=map_width_m, \n",
    "            height=map_height_m,\n",
    "            resolution='h',\n",
    "            area_thresh=10)\n",
    "\n",
    "m.drawcoastlines()\n",
    "m.drawcountries()\n",
    "m.fillcontinents()\n",
    "\n",
    "# plot a stations\n",
    "a_lon = list(top_commutes['a_lon'])\n",
    "a_lat = list(top_commutes['a_lat'])\n",
    "x,y = m(a_lon, a_lat)\n",
    "m.plot(x, y, 'bo', markersize=8)\n",
    "\n",
    "# plot b stations\n",
    "b_lon = list(top_commutes['b_lon'])\n",
    "b_lat = list(top_commutes['b_lat'])\n",
    "x,y = m(b_lon, b_lat)\n",
    "m.plot(x, y, 'ro', markersize=8)\n",
    "\n",
    "plt.suptitle(\"Popular Commute Origins (blue) and Destinations (red)\")\n",
    "plt.show()"
   ]
  },
  {
   "cell_type": "markdown",
   "metadata": {},
   "source": [
    "The remarkable aspect of this visualization is the concentration of commutes. Even though the bikeshare program covers the entire bay area, only a small section in Downtonw San Francisco contains popular commute routes. Additionally of the 25 most popular routes, many share the same stations (red destination points were plotted second and therefore cover some blue origin stations). The take away is that commute volume is driven by population density."
   ]
  },
  {
   "cell_type": "markdown",
   "metadata": {},
   "source": [
    "## 2) How do commuters compare in volume to other riders"
   ]
  },
  {
   "cell_type": "code",
   "execution_count": 13,
   "metadata": {
    "collapsed": true
   },
   "outputs": [],
   "source": [
    "# count all trips in the trips table\n",
    "q04_strs = [\"SELECT COUNT(trips.trip_id)\",\n",
    "            \"FROM [bigquery-public-data:san_francisco.bikeshare_trips] AS trips\"]\n",
    "q04_out = \"q04.csv\"\n",
    "q04_cmd = bq_builder(q04_strs,outfile=q04_out,legacy_sql=True)\n",
    "exit_stat = os.system(q04_cmd)\n",
    "q04_res=pd.read_csv(q04_out)"
   ]
  },
  {
   "cell_type": "code",
   "execution_count": 14,
   "metadata": {},
   "outputs": [
    {
     "data": {
      "text/html": [
       "<div>\n",
       "<style>\n",
       "    .dataframe thead tr:only-child th {\n",
       "        text-align: right;\n",
       "    }\n",
       "\n",
       "    .dataframe thead th {\n",
       "        text-align: left;\n",
       "    }\n",
       "\n",
       "    .dataframe tbody tr th {\n",
       "        vertical-align: top;\n",
       "    }\n",
       "</style>\n",
       "<table border=\"1\" class=\"dataframe\">\n",
       "  <thead>\n",
       "    <tr style=\"text-align: right;\">\n",
       "      <th></th>\n",
       "      <th>Proportion Commutes</th>\n",
       "      <th>Total Commutes</th>\n",
       "      <th>Total Trips</th>\n",
       "    </tr>\n",
       "  </thead>\n",
       "  <tbody>\n",
       "    <tr>\n",
       "      <th>0</th>\n",
       "      <td>0.538679</td>\n",
       "      <td>529871</td>\n",
       "      <td>983648</td>\n",
       "    </tr>\n",
       "  </tbody>\n",
       "</table>\n",
       "</div>"
      ],
      "text/plain": [
       "   Proportion Commutes  Total Commutes  Total Trips\n",
       "0             0.538679          529871       983648"
      ]
     },
     "execution_count": 14,
     "metadata": {},
     "output_type": "execute_result"
    }
   ],
   "source": [
    "# display breakdown of commutes to other trips\n",
    "count_commutes = q01_res[\"num_trips\"].sum() + q02_res[\"num_trips\"].sum()\n",
    "count_trips = q04_res[\"f0_\"][0]\n",
    "pd.DataFrame({\"Total Trips\":[count_trips],\"Total Commutes\":[count_commutes],\"Proportion Commutes\":[count_commutes/count_trips]})"
   ]
  },
  {
   "cell_type": "markdown",
   "metadata": {},
   "source": [
    "Given the conservative classification of commutes (only included subscribers' trips in a 3 hour morning and evening window), 53% is a high amount of volume. There are likely more commuters working off shifts, so we can safely conclude that commuting is the dominant use case for the bike share."
   ]
  },
  {
   "cell_type": "markdown",
   "metadata": {},
   "source": [
    "## 3) How does trip duration vary by time of day"
   ]
  },
  {
   "cell_type": "markdown",
   "metadata": {},
   "source": [
    "Query weekday travel volume and duration, followed by weekends."
   ]
  },
  {
   "cell_type": "code",
   "execution_count": 16,
   "metadata": {},
   "outputs": [],
   "source": [
    "q06_strs = [\"SELECT AVG(TIMESTAMP_DIFF(trips.end_date,trips.start_date,MINUTE)) AS diff_avg,\",\n",
    "            \"COUNT(trips.trip_id) AS num_trips,\",\n",
    "            \"EXTRACT(HOUR FROM trips.start_date) AS start_hour\",\n",
    "            \"FROM `bigquery-public-data.san_francisco.bikeshare_trips` AS trips\",\n",
    "            \"WHERE EXTRACT(DAYOFWEEK FROM trips.start_date) BETWEEN 2 AND 6\",\n",
    "            \"GROUP BY start_hour\",\n",
    "            \"ORDER BY start_hour ASC;\"]\n",
    "q06_out = \"q06.csv\"\n",
    "q06_cmd = bq_builder(q06_strs,outfile=q06_out,legacy_sql=True)\n",
    "#exit_stat = os.system(q06_cmd)"
   ]
  },
  {
   "cell_type": "code",
   "execution_count": 17,
   "metadata": {
    "collapsed": true
   },
   "outputs": [],
   "source": [
    "q07_strs = [\"SELECT AVG(TIMESTAMP_DIFF(trips.end_date,trips.start_date,MINUTE)) AS diff_avg,\",\n",
    "            \"COUNT(trips.trip_id) AS num_trips,\",\n",
    "            \"EXTRACT(HOUR FROM trips.start_date) AS start_hour\",\n",
    "            \"FROM `bigquery-public-data.san_francisco.bikeshare_trips` AS trips\",\n",
    "            \"WHERE ( EXTRACT(DAYOFWEEK FROM trips.start_date)=1 OR EXTRACT(DAYOFWEEK FROM trips.start_date)=7 )\",\n",
    "            \"GROUP BY start_hour\",\n",
    "            \"ORDER BY start_hour ASC;\"]\n",
    "q07_out = \"q07.csv\"\n",
    "q07_cmd = bq_builder(q07_strs,outfile=q07_out,legacy_sql=False)\n",
    "#exit_stat = os.system(q07_cmd)"
   ]
  },
  {
   "cell_type": "code",
   "execution_count": 23,
   "metadata": {},
   "outputs": [],
   "source": [
    "q06_res=pd.read_csv(q06_out)\n",
    "q06_res = q06_res.set_index(keys=['start_hour'])\n",
    "q07_res=pd.read_csv(q07_out)\n",
    "q07_res = q07_res.set_index(keys=['start_hour'])"
   ]
  },
  {
   "cell_type": "code",
   "execution_count": 25,
   "metadata": {},
   "outputs": [
    {
     "data": {
      "text/plain": [
       "Text(0.5,1,'Weekday Volume')"
      ]
     },
     "execution_count": 25,
     "metadata": {},
     "output_type": "execute_result"
    },
    {
     "data": {
      "image/png": "[encoded data removed]",
      "text/plain": [
       "<matplotlib.figure.Figure at 0x103cd7240>"
      ]
     },
     "metadata": {},
     "output_type": "display_data"
    }
   ],
   "source": [
    "# weekday plot\n",
    "ax = q06_res.plot(kind=\"bar\",subplots=True,legend=None);\n",
    "ax[0].set_xlabel(\"Hour\")\n",
    "ax[0].set_ylabel(\"Minutes\")\n",
    "ax[0].set_title(\"Weekday Duration\")\n",
    "ax[1].set_xlabel(\"Hour\")\n",
    "ax[1].set_ylabel(\"Number of Trips\")\n",
    "ax[1].set_title(\"Weekday Volume\")"
   ]
  },
  {
   "cell_type": "code",
   "execution_count": 26,
   "metadata": {},
   "outputs": [
    {
     "data": {
      "text/plain": [
       "Text(0.5,1,'Weekend Volume')"
      ]
     },
     "execution_count": 26,
     "metadata": {},
     "output_type": "execute_result"
    },
    {
     "data": {
      "image/png": "[encoded data removed]",
      "text/plain": [
       "<matplotlib.figure.Figure at 0x116362ac8>"
      ]
     },
     "metadata": {},
     "output_type": "display_data"
    }
   ],
   "source": [
    "# weekend plot\n",
    "ax = q07_res.plot(kind=\"bar\",subplots=True,legend=None);\n",
    "ax[0].set_xlabel(\"Hour\")\n",
    "ax[0].set_ylabel(\"Minutes\")\n",
    "ax[0].set_title(\"Weekend Duration\")\n",
    "ax[1].set_xlabel(\"Hour\")\n",
    "ax[1].set_ylabel(\"Number of Trips\")\n",
    "ax[1].set_title(\"Weekend Volume\")"
   ]
  },
  {
   "cell_type": "markdown",
   "metadata": {},
   "source": [
    "Weekend trip durations are much longer than a typical workday (around 10 minutes), which indicates a much larger number of weekend users are leisure users. High early morning trip durations and low ridership indicates a very small exercise user base exists."
   ]
  },
  {
   "cell_type": "markdown",
   "metadata": {},
   "source": [
    "## 4) Are there any imbalances of bikes that need to be noted"
   ]
  },
  {
   "cell_type": "markdown",
   "metadata": {},
   "source": [
    "** Query For Stations That Are Frequently Empty Or Full **"
   ]
  },
  {
   "cell_type": "code",
   "execution_count": 36,
   "metadata": {
    "collapsed": true
   },
   "outputs": [],
   "source": [
    "# count all trips in the trips table\n",
    "q08_strs = [\"SELECT COUNT(status.bikes_available) AS no_bikes,\",\n",
    "            \"station.name,\",\n",
    "            \"status.station_id,\",\n",
    "            \"station.latitude,\",\n",
    "            \"station.longitude\",\n",
    "            \"FROM [bigquery-public-data:san_francisco.bikeshare_status] AS status\",\n",
    "            \"LEFT JOIN [bigquery-public-data:san_francisco.bikeshare_stations] AS station\",\n",
    "            \"ON status.station_id = station.station_id\",\n",
    "            \"WHERE status.bikes_available=0\",\n",
    "            \"GROUP BY station.name, status.station_id, station.latitude, station.longitude\",\n",
    "            \"ORDER BY no_bikes DESC\",\n",
    "            \"LIMIT 10;\"]\n",
    "q08_out = \"q08.csv\"\n",
    "q08_cmd = bq_builder(q08_strs,outfile=q08_out,legacy_sql=True)\n",
    "exit_stat = os.system(q08_cmd)"
   ]
  },
  {
   "cell_type": "code",
   "execution_count": 43,
   "metadata": {
    "collapsed": true
   },
   "outputs": [],
   "source": [
    "# count all trips in the trips table\n",
    "q09_strs = [\"SELECT COUNT(status.bikes_available) AS full_bikes,\",\n",
    "            \"station.name,\",\n",
    "            \"status.station_id,\",\n",
    "            \"station.latitude,\",\n",
    "            \"station.longitude\",\n",
    "            \"FROM [bigquery-public-data:san_francisco.bikeshare_status] AS status\",\n",
    "            \"LEFT JOIN [bigquery-public-data:san_francisco.bikeshare_stations] AS station\",\n",
    "            \"ON status.station_id = station.station_id\",\n",
    "            \"WHERE status.bikes_available=station.dockcount\",\n",
    "            \"GROUP BY station.name, status.station_id, station.latitude, station.longitude\",\n",
    "            \"ORDER BY full_bikes DESC\",\n",
    "            \"LIMIT 10;\"]\n",
    "q09_out = \"q09.csv\"\n",
    "q09_cmd = bq_builder(q09_strs,outfile=q09_out,legacy_sql=True)\n",
    "exit_stat = os.system(q09_cmd)"
   ]
  },
  {
   "cell_type": "code",
   "execution_count": 44,
   "metadata": {},
   "outputs": [
    {
     "data": {
      "text/html": [
       "<div>\n",
       "<style>\n",
       "    .dataframe thead tr:only-child th {\n",
       "        text-align: right;\n",
       "    }\n",
       "\n",
       "    .dataframe thead th {\n",
       "        text-align: left;\n",
       "    }\n",
       "\n",
       "    .dataframe tbody tr th {\n",
       "        vertical-align: top;\n",
       "    }\n",
       "</style>\n",
       "<table border=\"1\" class=\"dataframe\">\n",
       "  <thead>\n",
       "    <tr style=\"text-align: right;\">\n",
       "      <th></th>\n",
       "      <th>full_bikes</th>\n",
       "      <th>station_name</th>\n",
       "      <th>status_station_id</th>\n",
       "      <th>station_latitude</th>\n",
       "      <th>station_longitude</th>\n",
       "    </tr>\n",
       "  </thead>\n",
       "  <tbody>\n",
       "    <tr>\n",
       "      <th>0</th>\n",
       "      <td>39801</td>\n",
       "      <td>San Francisco Caltrain (Townsend at 4th)</td>\n",
       "      <td>70</td>\n",
       "      <td>37.776617</td>\n",
       "      <td>-122.395260</td>\n",
       "    </tr>\n",
       "    <tr>\n",
       "      <th>1</th>\n",
       "      <td>38400</td>\n",
       "      <td>Embarcadero at Bryant</td>\n",
       "      <td>54</td>\n",
       "      <td>37.787152</td>\n",
       "      <td>-122.388013</td>\n",
       "    </tr>\n",
       "    <tr>\n",
       "      <th>2</th>\n",
       "      <td>23932</td>\n",
       "      <td>Embarcadero at Sansome</td>\n",
       "      <td>60</td>\n",
       "      <td>37.804770</td>\n",
       "      <td>-122.403234</td>\n",
       "    </tr>\n",
       "    <tr>\n",
       "      <th>3</th>\n",
       "      <td>22086</td>\n",
       "      <td>San Francisco Caltrain 2 (330 Townsend)</td>\n",
       "      <td>69</td>\n",
       "      <td>37.776600</td>\n",
       "      <td>-122.395470</td>\n",
       "    </tr>\n",
       "    <tr>\n",
       "      <th>4</th>\n",
       "      <td>16528</td>\n",
       "      <td>Civic Center BART (7th at Market)</td>\n",
       "      <td>72</td>\n",
       "      <td>37.781039</td>\n",
       "      <td>-122.411748</td>\n",
       "    </tr>\n",
       "    <tr>\n",
       "      <th>5</th>\n",
       "      <td>16508</td>\n",
       "      <td>Townsend at 7th</td>\n",
       "      <td>65</td>\n",
       "      <td>37.771058</td>\n",
       "      <td>-122.402717</td>\n",
       "    </tr>\n",
       "    <tr>\n",
       "      <th>6</th>\n",
       "      <td>16065</td>\n",
       "      <td>Embarcadero at Vallejo</td>\n",
       "      <td>48</td>\n",
       "      <td>37.799953</td>\n",
       "      <td>-122.398525</td>\n",
       "    </tr>\n",
       "    <tr>\n",
       "      <th>7</th>\n",
       "      <td>15274</td>\n",
       "      <td>Harry Bridges Plaza (Ferry Building)</td>\n",
       "      <td>50</td>\n",
       "      <td>37.795392</td>\n",
       "      <td>-122.394203</td>\n",
       "    </tr>\n",
       "    <tr>\n",
       "      <th>8</th>\n",
       "      <td>13498</td>\n",
       "      <td>Powell Street BART</td>\n",
       "      <td>39</td>\n",
       "      <td>37.783871</td>\n",
       "      <td>-122.408433</td>\n",
       "    </tr>\n",
       "    <tr>\n",
       "      <th>9</th>\n",
       "      <td>12153</td>\n",
       "      <td>Santa Clara at Almaden</td>\n",
       "      <td>4</td>\n",
       "      <td>37.333988</td>\n",
       "      <td>-121.894902</td>\n",
       "    </tr>\n",
       "  </tbody>\n",
       "</table>\n",
       "</div>"
      ],
      "text/plain": [
       "   full_bikes                              station_name  status_station_id  \\\n",
       "0       39801  San Francisco Caltrain (Townsend at 4th)                 70   \n",
       "1       38400                     Embarcadero at Bryant                 54   \n",
       "2       23932                    Embarcadero at Sansome                 60   \n",
       "3       22086   San Francisco Caltrain 2 (330 Townsend)                 69   \n",
       "4       16528         Civic Center BART (7th at Market)                 72   \n",
       "5       16508                           Townsend at 7th                 65   \n",
       "6       16065                    Embarcadero at Vallejo                 48   \n",
       "7       15274      Harry Bridges Plaza (Ferry Building)                 50   \n",
       "8       13498                        Powell Street BART                 39   \n",
       "9       12153                    Santa Clara at Almaden                  4   \n",
       "\n",
       "   station_latitude  station_longitude  \n",
       "0         37.776617        -122.395260  \n",
       "1         37.787152        -122.388013  \n",
       "2         37.804770        -122.403234  \n",
       "3         37.776600        -122.395470  \n",
       "4         37.781039        -122.411748  \n",
       "5         37.771058        -122.402717  \n",
       "6         37.799953        -122.398525  \n",
       "7         37.795392        -122.394203  \n",
       "8         37.783871        -122.408433  \n",
       "9         37.333988        -121.894902  "
      ]
     },
     "execution_count": 44,
     "metadata": {},
     "output_type": "execute_result"
    }
   ],
   "source": [
    "q08_res=pd.read_csv(q08_out)\n",
    "q09_res=pd.read_csv(q09_out)"
   ]
  },
  {
   "cell_type": "markdown",
   "metadata": {},
   "source": [
    "** Visualize Problematic Stations **"
   ]
  },
  {
   "cell_type": "code",
   "execution_count": 48,
   "metadata": {},
   "outputs": [
    {
     "data": {
      "image/png": "[encoded data removed]",
      "text/plain": [
       "<matplotlib.figure.Figure at 0x11611a7f0>"
      ]
     },
     "metadata": {},
     "output_type": "display_data"
    }
   ],
   "source": [
    "# first define a transverse mercator projection centered on the bay area\n",
    "map_width_m = 30 * 1000\n",
    "map_height_m = 30 * 1000\n",
    "fig_width = 10\n",
    "fig = plt.figure(figsize=[fig_width, fig_width * map_height_m / float(map_width_m)])\n",
    "m = Basemap(ellps='WGS84',\n",
    "            projection='tmerc',\n",
    "            lon_0=-122.4, \n",
    "            lat_0=37.79,\n",
    "            width=map_width_m, \n",
    "            height=map_height_m,\n",
    "            resolution='h',\n",
    "            area_thresh=10)\n",
    "\n",
    "m.drawcoastlines()\n",
    "m.drawcountries()\n",
    "m.fillcontinents()\n",
    "\n",
    "# plot a stations\n",
    "a_lon = list(q08_res['station_longitude'])\n",
    "a_lat = list(q08_res['station_latitude'])\n",
    "x,y = m(a_lon, a_lat)\n",
    "m.plot(x, y, 'bo', markersize=8)\n",
    "\n",
    "# plot b stations\n",
    "b_lon = list(q09_res['station_longitude'])\n",
    "b_lat = list(q09_res['station_latitude'])\n",
    "x,y = m(b_lon, b_lat)\n",
    "m.plot(x, y, 'ro', markersize=8)\n",
    "\n",
    "plt.suptitle(\"Commonly Full Stations (red) and Empty Stations (blue)\")\n",
    "plt.show()"
   ]
  },
  {
   "cell_type": "markdown",
   "metadata": {},
   "source": [
    "Similarly to commuting patterns, the stations that are most often out of or overstocked with bikes are in Downtown San Francisco. This informs us that the downtown market may already be saturated with users, and short of building more docks there is not much we can do to increase ridership."
   ]
  },
  {
   "cell_type": "markdown",
   "metadata": {},
   "source": [
    "## 5) Conclusion\n"
   ]
  },
  {
   "cell_type": "markdown",
   "metadata": {},
   "source": [
    "The promotion that we offer should encourage commuting, since commuters are the largest group of current users. They are more likely to be repeat users, given how many of them are subscribers. Additionally they live in the city and are more likely to see marketing related to a discount. The issue is that the current population of commuters has already saturated the downtown market, and there are often shortages of bikes or nowhere to dock a bike. This means that we should target commuters in less traditional biking areas.\n",
    "\n",
    "It is my reccomendation that we offer a day pass that allows unlimited 30-minute rides. This will encourage people in the bay area that previously had not considered bike commuting to give it a try. The hope is that some of these new users will decide to start bike commuting on a regular basis and create an ongoing revenue stream. One potential concern is that commuters outside of downtown San Francisco are likely going to have longer commutes in the more suburban communities of East Bay, Silicon Valley, and San Jose. A typical city commute is between 10 and 20 minutes so there is a risk that the 30 minute promotion doesn't encourage ridership outside of the main population centers."
   ]
  },
  {
   "cell_type": "code",
   "execution_count": null,
   "metadata": {
    "collapsed": true
   },
   "outputs": [],
   "source": []
  }
 ],
 "metadata": {
  "kernelspec": {
   "display_name": "Python 3",
   "language": "python",
   "name": "python3"
  },
  "language_info": {
   "codemirror_mode": {
    "name": "ipython",
    "version": 3
   },
   "file_extension": ".py",
   "mimetype": "text/x-python",
   "name": "python",
   "nbconvert_exporter": "python",
   "pygments_lexer": "ipython3",
   "version": "3.6.3"
  }
 },
 "nbformat": 4,
 "nbformat_minor": 2
}
